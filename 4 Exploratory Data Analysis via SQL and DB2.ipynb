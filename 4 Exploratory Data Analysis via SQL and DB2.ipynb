{
 "cells": [
  {
   "cell_type": "markdown",
   "metadata": {},
   "source": [
    "<p style=\"text-align:center\">\n",
    "    <a href=\"https://skills.network/?utm_medium=Exinfluencer&utm_source=Exinfluencer&utm_content=000026UJ&utm_term=10006555&utm_id=NA-SkillsNetwork-Channel-SkillsNetworkCoursesIBMDeveloperSkillsNetworkDB0201ENSkillsNetwork20127838-2022-01-01\" target=\"_blank\">\n",
    "    <img src=\"https://cf-courses-data.s3.us.cloud-object-storage.appdomain.cloud/assets/logos/SN_web_lightmode.png\" width=\"200\" alt=\"Skills Network Logo\"  />\n",
    "    </a>\n",
    "</p>\n",
    "\n",
    "# Assignment: SQL Notebook for Peer Assignment\n",
    "Accessing Databases with SQL Magic\n",
    "\n",
    "## Objectives\n",
    "\n",
    "Understand the Spacex DataSet\n",
    "Load the dataset into the corresponding table in a Db2 database\n",
    "Execute SQL queries to answer assignment questions\n",
    "\n",
    "## SpaceX has gained worldwide attention for a series of historic milestones.\n",
    "\n",
    "It is the only private company ever to return a spacecraft from low-earth orbit, which it first accomplished in December 2010. SpaceX advertises Falcon 9 rocket launches on its website with a cost of 62 million dollars wheras other providers cost upward of 165 million dollars each, much of the savings is because Space X can reuse the first stage.\n",
    "\n",
    "Therefore if we can determine if the first stage will land, we can determine the cost of a launch.\n",
    "\n",
    "This information can be used if an alternate company wants to bid against SpaceX for a rocket launch.\n",
    "\n",
    "This dataset includes a record for each payload carried during a SpaceX mission into outer space.\n",
    "\n",
    "## Download the datasets\n",
    "This assignment requires you to load the spacex dataset.\n",
    "\n",
    "In many cases the dataset to be analyzed is available as a .CSV (comma separated values) file, perhaps on the internet. Click on the link below to download and save the dataset (.CSV file):\n",
    "\n",
    "[spacex csv](https://cf-courses-data.s3.us.cloud-object-storage.appdomain.cloud/IBM-DS0321EN-SkillsNetwork/labs/module_2/data/Spacex.csv?utm_medium=Exinfluencer&utm_source=Exinfluencer&utm_content=000026UJ&utm_term=10006555&utm_id=NA-SkillsNetwork-Channel-SkillsNetworkCoursesIBMDS0321ENSkillsNetwork26802033-2022-01-01)\n"
   ]
  },
  {
   "cell_type": "markdown",
   "metadata": {},
   "source": [
    "## IBM DB2 \n",
    "* Store the dataset in database table *manually load the table using the database console LOAD tool in DB2*\n",
    "* Table = SPACEX = HHS83610.SPACEX\n",
    "* Disable detect datatypes (payload_mass_kg as INT)\n",
    "* Correctly format date and time in schema (YYYY-MM-DD and HH:MM:SS)\n",
    "* Upload csv"
   ]
  },
  {
   "cell_type": "markdown",
   "metadata": {},
   "source": [
    "##### To communicate with SQL Databases from within a JupyterLab notebook, we can use the SQL \"magic\" provided by the [ipython-sql](https://github.com/catherinedevlin/ipython-sql) extension. \"Magic\" is JupyterLab's term for special commands that start with \"%\". Below, we'll use the *load*\\_*ext* magic to load the ipython-sql extension. In the lab environemnt provided in the course the ipython-sql extension is already installed and so is the ibm_db_sa driver.\n",
    "\n",
    "The following required modules are pre-installed in the Skills Network Labs environment. However if you run this notebook commands in a different Jupyter environment (e.g. Watson Studio or Ananconda) you may need to install these libraries by removing the `#` sign before `!pip` in the code cell below.\n"
   ]
  },
  {
   "cell_type": "code",
   "execution_count": null,
   "metadata": {},
   "outputs": [],
   "source": [
    "# These libraries are pre-installed in SN Labs. If running in another environment please uncomment lines below to install them:\n",
    "# !pip install --force-reinstall ibm_db==3.1.0 ibm_db_sa==0.3.3\n",
    "# Ensure we don't load_ext with sqlalchemy>=1.4 (incompadible)\n",
    "# !pip uninstall sqlalchemy==1.4 -y && pip install sqlalchemy==1.3.24\n",
    "# !pip install ipython-sql"
   ]
  },
  {
   "cell_type": "code",
   "execution_count": 39,
   "metadata": {},
   "outputs": [
    {
     "name": "stdout",
     "output_type": "stream",
     "text": [
      "The sql extension is already loaded. To reload it, use:\n",
      "  %reload_ext sql\n"
     ]
    }
   ],
   "source": [
    "%load_ext sql"
   ]
  },
  {
   "cell_type": "markdown",
   "metadata": {},
   "source": [
    "##### Now we have access to SQL magic. With our first SQL magic command, we'll connect to a Db2 database. However, in order to do that, you'll first need to retrieve or create your credentials to access your Db2 database.\n"
   ]
  },
  {
   "cell_type": "markdown",
   "metadata": {},
   "source": [
    "<a ><img src = \"https://cf-courses-data.s3.us.cloud-object-storage.appdomain.cloud/IBMDeveloperSkillsNetwork-DB0201EN-SkillsNetwork/labs/Module%205/images/details.png\" width = 1000, align = \"center\"></a>\n",
    "\n",
    "  <h5 align=center>  This image shows the location of your connection string if you're using Db2 on IBM Cloud. If you're using another host the format is: username:password@hostname:port/database-name?security=SSL\n",
    "  </h5>\n"
   ]
  },
  {
   "cell_type": "code",
   "execution_count": 41,
   "metadata": {},
   "outputs": [
    {
     "data": {
      "text/plain": [
       "'Connected: hhs83610@BLUDB'"
      ]
     },
     "execution_count": 41,
     "metadata": {},
     "output_type": "execute_result"
    }
   ],
   "source": [
    "# Enter your Db2 credentials in the connection string below\n",
    "# Recall you created Service Credentials in Part III of the first lab of the course in Week 1\n",
    "# i.e. from the uri field in the Service Credentials copy everything after db2:// (but remove the double quote at the end)\n",
    "# for example, if your credentials are as in the screenshot above, you would write:\n",
    "# %sql ibm_db_sa://my-username:my-password@hostname:port/BLUDB?security=SSL\n",
    "# Note the ibm_db_sa:// prefix instead of db2://\n",
    "# This is because JupyterLab's ipython-sql extension uses sqlalchemy (a python SQL toolkit)\n",
    "# which in turn uses IBM's sqlalchemy dialect: ibm_db_sa\n",
    "\n",
    "%sql ibm_db_sa://hhs83610:Kvv178o2BQUYIzsY@9938aec0-8105-433e-8bf9-0fbb7e483086.c1ogj3sd0tgtu0lqde00.databases.appdomain.cloud:32459/BLUDB?security=SSL"
   ]
  },
  {
   "cell_type": "code",
   "execution_count": 43,
   "metadata": {},
   "outputs": [],
   "source": [
    "# load pandas\n",
    "!pip install -q pandas==1.1.5"
   ]
  },
  {
   "cell_type": "code",
   "execution_count": 45,
   "metadata": {},
   "outputs": [],
   "source": [
    "import pandas as pd"
   ]
  },
  {
   "cell_type": "code",
   "execution_count": 51,
   "metadata": {},
   "outputs": [],
   "source": [
    "import matplotlib.pyplot as plt\n",
    "%matplotlib inline\n",
    "# uncomment the following line if you get an module error saying seaborn not found\n",
    "# !pip install seaborn==0.9.0\n",
    "import seaborn as sns"
   ]
  },
  {
   "cell_type": "code",
   "execution_count": 6,
   "metadata": {},
   "outputs": [
    {
     "name": "stdout",
     "output_type": "stream",
     "text": [
      " * ibm_db_sa://hhs83610:***@9938aec0-8105-433e-8bf9-0fbb7e483086.c1ogj3sd0tgtu0lqde00.databases.appdomain.cloud:32459/BLUDB\n",
      "Done.\n"
     ]
    },
    {
     "data": {
      "text/html": [
       "<table>\n",
       "    <thead>\n",
       "        <tr>\n",
       "            <th>DATE</th>\n",
       "            <th>TIME</th>\n",
       "            <th>booster_version</th>\n",
       "            <th>launch_site</th>\n",
       "            <th>payload</th>\n",
       "            <th>payload_mass_kg</th>\n",
       "            <th>orbit</th>\n",
       "            <th>customer</th>\n",
       "            <th>mission_outcome</th>\n",
       "            <th>landing__outcome</th>\n",
       "        </tr>\n",
       "    </thead>\n",
       "    <tbody>\n",
       "        <tr>\n",
       "            <td>2020-11-25</td>\n",
       "            <td>02:13:00</td>\n",
       "            <td>F9 B5 B1049.7</td>\n",
       "            <td>CCAFS SLC-40</td>\n",
       "            <td>Starlink 15 v1.0, SpaceX CRS-21</td>\n",
       "            <td>15600</td>\n",
       "            <td>LEO</td>\n",
       "            <td>SpaceX</td>\n",
       "            <td>Success</td>\n",
       "            <td>Success</td>\n",
       "        </tr>\n",
       "        <tr>\n",
       "            <td>2020-11-21</td>\n",
       "            <td>17:17:08</td>\n",
       "            <td>F9 B5B1063.1</td>\n",
       "            <td>VAFB SLC-4E</td>\n",
       "            <td>Sentinel-6 Michael Freilich, Starlink 15 v1.0 </td>\n",
       "            <td>1192</td>\n",
       "            <td>LEO</td>\n",
       "            <td>NASA / NOAA / ESA / EUMETSAT</td>\n",
       "            <td>Success</td>\n",
       "            <td>Success</td>\n",
       "        </tr>\n",
       "        <tr>\n",
       "            <td>2020-11-16</td>\n",
       "            <td>00:27:00</td>\n",
       "            <td>F9 B5B1061.1</td>\n",
       "            <td>KSC LC-39A</td>\n",
       "            <td>Crew-1, Sentinel-6 Michael Freilich </td>\n",
       "            <td>12500</td>\n",
       "            <td>LEO (ISS)</td>\n",
       "            <td>NASA (CCP)</td>\n",
       "            <td>Success</td>\n",
       "            <td>Success</td>\n",
       "        </tr>\n",
       "        <tr>\n",
       "            <td>2020-10-24</td>\n",
       "            <td>15:31:34</td>\n",
       "            <td>F9 B5 B1060.3</td>\n",
       "            <td>CCAFS SLC-40</td>\n",
       "            <td>Starlink 14 v1.0, GPS III-04  </td>\n",
       "            <td>15600</td>\n",
       "            <td>LEO</td>\n",
       "            <td>SpaceX</td>\n",
       "            <td>Success</td>\n",
       "            <td>Success</td>\n",
       "        </tr>\n",
       "        <tr>\n",
       "            <td>2020-10-18</td>\n",
       "            <td>12:25:57</td>\n",
       "            <td>F9 B5 B1051.6</td>\n",
       "            <td>KSC LC-39A</td>\n",
       "            <td>Starlink 13 v1.0, Starlink 14 v1.0 </td>\n",
       "            <td>15600</td>\n",
       "            <td>LEO</td>\n",
       "            <td>SpaceX</td>\n",
       "            <td>Success</td>\n",
       "            <td>Success</td>\n",
       "        </tr>\n",
       "        <tr>\n",
       "            <td>2020-08-30</td>\n",
       "            <td>23:18:00</td>\n",
       "            <td>F9 B5 B1059.4</td>\n",
       "            <td>CCAFS SLC-40</td>\n",
       "            <td>SAOCOM 1B, GNOMES 1, Tyvak-0172</td>\n",
       "            <td>3130</td>\n",
       "            <td>SSO</td>\n",
       "            <td>CONAE, PlanetIQ, SpaceX</td>\n",
       "            <td>Success</td>\n",
       "            <td>Success</td>\n",
       "        </tr>\n",
       "        <tr>\n",
       "            <td>2020-08-18</td>\n",
       "            <td>14:31:00</td>\n",
       "            <td>F9 B5 B1049.6</td>\n",
       "            <td>CCAFS SLC-40</td>\n",
       "            <td>Starlink 10 v1.0, SkySat-19, -20, -21, SAOCOM 1B </td>\n",
       "            <td>15440</td>\n",
       "            <td>LEO</td>\n",
       "            <td>SpaceX, Planet Labs, PlanetIQ</td>\n",
       "            <td>Success</td>\n",
       "            <td>Success</td>\n",
       "        </tr>\n",
       "        <tr>\n",
       "            <td>2020-07-20</td>\n",
       "            <td>21:30:00</td>\n",
       "            <td>F9 B5 B1058.2</td>\n",
       "            <td>CCAFS SLC-40</td>\n",
       "            <td>ANASIS-II, Starlink 9 v1.0</td>\n",
       "            <td>5500</td>\n",
       "            <td>GTO</td>\n",
       "            <td>Republic of Korea Army, Spaceflight Industries (BlackSky)</td>\n",
       "            <td>Success</td>\n",
       "            <td>Success</td>\n",
       "        </tr>\n",
       "        <tr>\n",
       "            <td>2020-07-08</td>\n",
       "            <td>05:12:00</td>\n",
       "            <td>F9 B5 B1051.5</td>\n",
       "            <td>KSC LC-39A</td>\n",
       "            <td>Starlink 9 v1.0, SXRS-1, Starlink 10 v1.0 </td>\n",
       "            <td>14932</td>\n",
       "            <td>LEO</td>\n",
       "            <td>SpaceX, Spaceflight Industries (BlackSky), Planet Labs</td>\n",
       "            <td>Success</td>\n",
       "            <td>Success</td>\n",
       "        </tr>\n",
       "        <tr>\n",
       "            <td>2020-07-03</td>\n",
       "            <td>04:50:00</td>\n",
       "            <td>F9 B5 B1059.2</td>\n",
       "            <td>CCAFS SLC-40</td>\n",
       "            <td>SpaceX CRS-20, Starlink 5 v1.0 </td>\n",
       "            <td>1977</td>\n",
       "            <td>LEO (ISS)</td>\n",
       "            <td>NASA (CRS)</td>\n",
       "            <td>Success</td>\n",
       "            <td>Success</td>\n",
       "        </tr>\n",
       "    </tbody>\n",
       "</table>"
      ],
      "text/plain": [
       "[(datetime.date(2020, 11, 25), datetime.time(2, 13), 'F9 B5 B1049.7', 'CCAFS SLC-40', 'Starlink 15 v1.0, SpaceX CRS-21', 15600, 'LEO', 'SpaceX', 'Success', 'Success'),\n",
       " (datetime.date(2020, 11, 21), datetime.time(17, 17, 8), 'F9 B5B1063.1', 'VAFB SLC-4E', 'Sentinel-6 Michael Freilich, Starlink 15 v1.0 ', 1192, 'LEO', 'NASA / NOAA / ESA / EUMETSAT', 'Success', 'Success'),\n",
       " (datetime.date(2020, 11, 16), datetime.time(0, 27), 'F9 B5B1061.1', 'KSC LC-39A', 'Crew-1, Sentinel-6 Michael Freilich ', 12500, 'LEO (ISS)', 'NASA (CCP)', 'Success', 'Success'),\n",
       " (datetime.date(2020, 10, 24), datetime.time(15, 31, 34), 'F9 B5 B1060.3', 'CCAFS SLC-40', 'Starlink 14 v1.0, GPS III-04  ', 15600, 'LEO', 'SpaceX', 'Success', 'Success'),\n",
       " (datetime.date(2020, 10, 18), datetime.time(12, 25, 57), 'F9 B5 B1051.6', 'KSC LC-39A', 'Starlink 13 v1.0, Starlink 14 v1.0 ', 15600, 'LEO', 'SpaceX', 'Success', 'Success'),\n",
       " (datetime.date(2020, 8, 30), datetime.time(23, 18), 'F9 B5 B1059.4', 'CCAFS SLC-40', 'SAOCOM 1B, GNOMES 1, Tyvak-0172', 3130, 'SSO', 'CONAE, PlanetIQ, SpaceX', 'Success', 'Success'),\n",
       " (datetime.date(2020, 8, 18), datetime.time(14, 31), 'F9 B5 B1049.6', 'CCAFS SLC-40', 'Starlink 10 v1.0, SkySat-19, -20, -21, SAOCOM 1B ', 15440, 'LEO', 'SpaceX, Planet Labs, PlanetIQ', 'Success', 'Success'),\n",
       " (datetime.date(2020, 7, 20), datetime.time(21, 30), 'F9 B5 B1058.2', 'CCAFS SLC-40', 'ANASIS-II, Starlink 9 v1.0', 5500, 'GTO', 'Republic of Korea Army, Spaceflight Industries (BlackSky)', 'Success', 'Success'),\n",
       " (datetime.date(2020, 7, 8), datetime.time(5, 12), 'F9 B5 B1051.5', 'KSC LC-39A', 'Starlink 9 v1.0, SXRS-1, Starlink 10 v1.0 ', 14932, 'LEO', 'SpaceX, Spaceflight Industries (BlackSky), Planet Labs', 'Success', 'Success'),\n",
       " (datetime.date(2020, 7, 3), datetime.time(4, 50), 'F9 B5 B1059.2', 'CCAFS SLC-40', 'SpaceX CRS-20, Starlink 5 v1.0 ', 1977, 'LEO (ISS)', 'NASA (CRS)', 'Success', 'Success')]"
      ]
     },
     "execution_count": 6,
     "metadata": {},
     "output_type": "execute_result"
    }
   ],
   "source": [
    "%sql select * from SPACEX limit 10"
   ]
  },
  {
   "cell_type": "code",
   "execution_count": 7,
   "metadata": {},
   "outputs": [
    {
     "name": "stdout",
     "output_type": "stream",
     "text": [
      " * ibm_db_sa://hhs83610:***@9938aec0-8105-433e-8bf9-0fbb7e483086.c1ogj3sd0tgtu0lqde00.databases.appdomain.cloud:32459/BLUDB\n",
      "Done.\n"
     ]
    },
    {
     "data": {
      "text/html": [
       "<table>\n",
       "    <thead>\n",
       "        <tr>\n",
       "            <th>launch_site</th>\n",
       "        </tr>\n",
       "    </thead>\n",
       "    <tbody>\n",
       "        <tr>\n",
       "            <td>CCAFS LC-40</td>\n",
       "        </tr>\n",
       "        <tr>\n",
       "            <td>CCAFS SLC-40</td>\n",
       "        </tr>\n",
       "        <tr>\n",
       "            <td>KSC LC-39A</td>\n",
       "        </tr>\n",
       "        <tr>\n",
       "            <td>VAFB SLC-4E</td>\n",
       "        </tr>\n",
       "    </tbody>\n",
       "</table>"
      ],
      "text/plain": [
       "[('CCAFS LC-40',), ('CCAFS SLC-40',), ('KSC LC-39A',), ('VAFB SLC-4E',)]"
      ]
     },
     "execution_count": 7,
     "metadata": {},
     "output_type": "execute_result"
    }
   ],
   "source": [
    "# Display the names of the unique launch sites in the space mission\n",
    "%sql select distinct LAUNCH_SITE from SPACEX"
   ]
  },
  {
   "cell_type": "code",
   "execution_count": 8,
   "metadata": {},
   "outputs": [
    {
     "name": "stdout",
     "output_type": "stream",
     "text": [
      " * ibm_db_sa://hhs83610:***@9938aec0-8105-433e-8bf9-0fbb7e483086.c1ogj3sd0tgtu0lqde00.databases.appdomain.cloud:32459/BLUDB\n",
      "Done.\n"
     ]
    },
    {
     "data": {
      "text/html": [
       "<table>\n",
       "    <thead>\n",
       "        <tr>\n",
       "            <th>launch_site</th>\n",
       "        </tr>\n",
       "    </thead>\n",
       "    <tbody>\n",
       "        <tr>\n",
       "            <td>CCAFS SLC-40</td>\n",
       "        </tr>\n",
       "        <tr>\n",
       "            <td>CCAFS SLC-40</td>\n",
       "        </tr>\n",
       "        <tr>\n",
       "            <td>CCAFS SLC-40</td>\n",
       "        </tr>\n",
       "        <tr>\n",
       "            <td>CCAFS SLC-40</td>\n",
       "        </tr>\n",
       "        <tr>\n",
       "            <td>CCAFS SLC-40</td>\n",
       "        </tr>\n",
       "    </tbody>\n",
       "</table>"
      ],
      "text/plain": [
       "[('CCAFS SLC-40',),\n",
       " ('CCAFS SLC-40',),\n",
       " ('CCAFS SLC-40',),\n",
       " ('CCAFS SLC-40',),\n",
       " ('CCAFS SLC-40',)]"
      ]
     },
     "execution_count": 8,
     "metadata": {},
     "output_type": "execute_result"
    }
   ],
   "source": [
    "# Display 5 records where launch sites begin with the string 'CCA'\n",
    "%sql select LAUNCH_SITE from SPACEX where LAUNCH_SITE like 'CCA%' limit 5"
   ]
  },
  {
   "cell_type": "code",
   "execution_count": 9,
   "metadata": {},
   "outputs": [
    {
     "name": "stdout",
     "output_type": "stream",
     "text": [
      " * ibm_db_sa://hhs83610:***@9938aec0-8105-433e-8bf9-0fbb7e483086.c1ogj3sd0tgtu0lqde00.databases.appdomain.cloud:32459/BLUDB\n",
      "Done.\n"
     ]
    },
    {
     "data": {
      "text/html": [
       "<table>\n",
       "    <thead>\n",
       "        <tr>\n",
       "            <th>launch_site</th>\n",
       "        </tr>\n",
       "    </thead>\n",
       "    <tbody>\n",
       "        <tr>\n",
       "            <td>CCAFS LC-40</td>\n",
       "        </tr>\n",
       "        <tr>\n",
       "            <td>CCAFS SLC-40</td>\n",
       "        </tr>\n",
       "    </tbody>\n",
       "</table>"
      ],
      "text/plain": [
       "[('CCAFS LC-40',), ('CCAFS SLC-40',)]"
      ]
     },
     "execution_count": 9,
     "metadata": {},
     "output_type": "execute_result"
    }
   ],
   "source": [
    "## Display the unique launch sites beginning with CCA\n",
    "%sql select distinct LAUNCH_SITE from SPACEX where LAUNCH_SITE like 'CCA%' "
   ]
  },
  {
   "cell_type": "code",
   "execution_count": 10,
   "metadata": {},
   "outputs": [
    {
     "name": "stdout",
     "output_type": "stream",
     "text": [
      " * ibm_db_sa://hhs83610:***@9938aec0-8105-433e-8bf9-0fbb7e483086.c1ogj3sd0tgtu0lqde00.databases.appdomain.cloud:32459/BLUDB\n",
      "Done.\n"
     ]
    },
    {
     "data": {
      "text/html": [
       "<table>\n",
       "    <thead>\n",
       "        <tr>\n",
       "            <th>total_payload_mass_kg_of_all_falcon9_launches</th>\n",
       "        </tr>\n",
       "    </thead>\n",
       "    <tbody>\n",
       "        <tr>\n",
       "            <td>45596</td>\n",
       "        </tr>\n",
       "    </tbody>\n",
       "</table>"
      ],
      "text/plain": [
       "[(45596,)]"
      ]
     },
     "execution_count": 10,
     "metadata": {},
     "output_type": "execute_result"
    }
   ],
   "source": [
    "# Display the total payload mass carried by boosters launched by NASA (CRS)\n",
    "%sql select sum(PAYLOAD_MASS_KG) as Total_Payload_Mass_Kg_of_All_Falcon9_Launches from SPACEX where CUSTOMER = 'NASA (CRS)'"
   ]
  },
  {
   "cell_type": "code",
   "execution_count": 11,
   "metadata": {},
   "outputs": [
    {
     "name": "stdout",
     "output_type": "stream",
     "text": [
      " * ibm_db_sa://hhs83610:***@9938aec0-8105-433e-8bf9-0fbb7e483086.c1ogj3sd0tgtu0lqde00.databases.appdomain.cloud:32459/BLUDB\n",
      "Done.\n"
     ]
    },
    {
     "data": {
      "text/html": [
       "<table>\n",
       "    <thead>\n",
       "        <tr>\n",
       "            <th>average_payload_mass_kg_for_f9_v1_1</th>\n",
       "        </tr>\n",
       "    </thead>\n",
       "    <tbody>\n",
       "        <tr>\n",
       "            <td>2928</td>\n",
       "        </tr>\n",
       "    </tbody>\n",
       "</table>"
      ],
      "text/plain": [
       "[(2928,)]"
      ]
     },
     "execution_count": 11,
     "metadata": {},
     "output_type": "execute_result"
    }
   ],
   "source": [
    "# Display average payload mass carried by booster version F9 v1.1\n",
    "%sql select avg(PAYLOAD_MASS_KG) as average_payload_mass_kg_for_F9_v1_1 from SPACEX where BOOSTER_VERSION = 'F9 v1.1'"
   ]
  },
  {
   "cell_type": "code",
   "execution_count": 7,
   "metadata": {},
   "outputs": [
    {
     "name": "stdout",
     "output_type": "stream",
     "text": [
      " * ibm_db_sa://hhs83610:***@9938aec0-8105-433e-8bf9-0fbb7e483086.c1ogj3sd0tgtu0lqde00.databases.appdomain.cloud:32459/BLUDB\n",
      "Done.\n"
     ]
    },
    {
     "data": {
      "text/html": [
       "<table>\n",
       "    <thead>\n",
       "        <tr>\n",
       "            <th>First Landing Success</th>\n",
       "        </tr>\n",
       "    </thead>\n",
       "    <tbody>\n",
       "        <tr>\n",
       "            <td>2015-12-22</td>\n",
       "        </tr>\n",
       "    </tbody>\n",
       "</table>"
      ],
      "text/plain": [
       "[(datetime.date(2015, 12, 22),)]"
      ]
     },
     "execution_count": 7,
     "metadata": {},
     "output_type": "execute_result"
    }
   ],
   "source": [
    "# List the date when the first succesful landing outcome in ground pad was acheived. Hint:Use min function\n",
    "%sql select min(DATE) as \"First Landing Success\" from SPACEX where LANDING__OUTCOME like 'Success%'"
   ]
  },
  {
   "cell_type": "code",
   "execution_count": 8,
   "metadata": {},
   "outputs": [
    {
     "name": "stdout",
     "output_type": "stream",
     "text": [
      " * ibm_db_sa://hhs83610:***@9938aec0-8105-433e-8bf9-0fbb7e483086.c1ogj3sd0tgtu0lqde00.databases.appdomain.cloud:32459/BLUDB\n",
      "Done.\n"
     ]
    },
    {
     "data": {
      "text/html": [
       "<table>\n",
       "    <thead>\n",
       "        <tr>\n",
       "            <th>booster_version</th>\n",
       "            <th>landing__outcome</th>\n",
       "            <th>payload_mass_kg</th>\n",
       "        </tr>\n",
       "    </thead>\n",
       "    <tbody>\n",
       "        <tr>\n",
       "            <td>F9 FT  B1021.2</td>\n",
       "            <td>Success (drone ship)</td>\n",
       "            <td>5300</td>\n",
       "        </tr>\n",
       "        <tr>\n",
       "            <td>F9 FT  B1031.2</td>\n",
       "            <td>Success (drone ship)</td>\n",
       "            <td>5200</td>\n",
       "        </tr>\n",
       "        <tr>\n",
       "            <td>F9 FT B1022</td>\n",
       "            <td>Success (drone ship)</td>\n",
       "            <td>4696</td>\n",
       "        </tr>\n",
       "        <tr>\n",
       "            <td>F9 FT B1026</td>\n",
       "            <td>Success (drone ship)</td>\n",
       "            <td>4600</td>\n",
       "        </tr>\n",
       "    </tbody>\n",
       "</table>"
      ],
      "text/plain": [
       "[('F9 FT  B1021.2', 'Success (drone ship)', 5300),\n",
       " ('F9 FT  B1031.2', 'Success (drone ship)', 5200),\n",
       " ('F9 FT B1022', 'Success (drone ship)', 4696),\n",
       " ('F9 FT B1026', 'Success (drone ship)', 4600)]"
      ]
     },
     "execution_count": 8,
     "metadata": {},
     "output_type": "execute_result"
    }
   ],
   "source": [
    "# List the names of the boosters which have success in drone ship and have payload mass greater than 4000 but less than 6000\n",
    "%sql select distinct BOOSTER_VERSION, LANDING__OUTCOME, PAYLOAD_MASS_KG from SPACEX where (PAYLOAD_MASS_KG between 4000 and 6000) and LANDING__OUTCOME = 'Success (drone ship)'"
   ]
  },
  {
   "cell_type": "code",
   "execution_count": 10,
   "metadata": {},
   "outputs": [
    {
     "name": "stdout",
     "output_type": "stream",
     "text": [
      " * ibm_db_sa://hhs83610:***@9938aec0-8105-433e-8bf9-0fbb7e483086.c1ogj3sd0tgtu0lqde00.databases.appdomain.cloud:32459/BLUDB\n",
      "Done.\n"
     ]
    },
    {
     "data": {
      "text/html": [
       "<table>\n",
       "    <thead>\n",
       "        <tr>\n",
       "            <th>1</th>\n",
       "            <th>Launch and/or Objective Success</th>\n",
       "        </tr>\n",
       "    </thead>\n",
       "    <tbody>\n",
       "        <tr>\n",
       "            <td>1</td>\n",
       "            <td>Failure (in flight)</td>\n",
       "        </tr>\n",
       "        <tr>\n",
       "            <td>99</td>\n",
       "            <td>Success</td>\n",
       "        </tr>\n",
       "        <tr>\n",
       "            <td>1</td>\n",
       "            <td>Success (payload status unclear)</td>\n",
       "        </tr>\n",
       "    </tbody>\n",
       "</table>"
      ],
      "text/plain": [
       "[(1, 'Failure (in flight)'),\n",
       " (99, 'Success'),\n",
       " (1, 'Success (payload status unclear)')]"
      ]
     },
     "execution_count": 10,
     "metadata": {},
     "output_type": "execute_result"
    }
   ],
   "source": [
    "#List the total number of successful and failure mission outcomes (mission outcome ~ launch success)\n",
    "%sql select count(*), MISSION_OUTCOME as \"Launch and/or Objective Success\" from SPACEX group by MISSION_OUTCOME"
   ]
  },
  {
   "cell_type": "code",
   "execution_count": 82,
   "metadata": {},
   "outputs": [
    {
     "name": "stdout",
     "output_type": "stream",
     "text": [
      " * ibm_db_sa://hhs83610:***@9938aec0-8105-433e-8bf9-0fbb7e483086.c1ogj3sd0tgtu0lqde00.databases.appdomain.cloud:32459/BLUDB\n",
      "Done.\n"
     ]
    },
    {
     "data": {
      "text/html": [
       "<table>\n",
       "    <thead>\n",
       "        <tr>\n",
       "            <th>booster_version</th>\n",
       "            <th>payload_mass_kg</th>\n",
       "        </tr>\n",
       "    </thead>\n",
       "    <tbody>\n",
       "        <tr>\n",
       "            <td>F9 B5 B1048.4</td>\n",
       "            <td>15600</td>\n",
       "        </tr>\n",
       "        <tr>\n",
       "            <td>F9 B5 B1048.5</td>\n",
       "            <td>15600</td>\n",
       "        </tr>\n",
       "        <tr>\n",
       "            <td>F9 B5 B1049.4</td>\n",
       "            <td>15600</td>\n",
       "        </tr>\n",
       "        <tr>\n",
       "            <td>F9 B5 B1049.5</td>\n",
       "            <td>15600</td>\n",
       "        </tr>\n",
       "        <tr>\n",
       "            <td>F9 B5 B1049.7</td>\n",
       "            <td>15600</td>\n",
       "        </tr>\n",
       "        <tr>\n",
       "            <td>F9 B5 B1051.3</td>\n",
       "            <td>15600</td>\n",
       "        </tr>\n",
       "        <tr>\n",
       "            <td>F9 B5 B1051.4</td>\n",
       "            <td>15600</td>\n",
       "        </tr>\n",
       "        <tr>\n",
       "            <td>F9 B5 B1051.6</td>\n",
       "            <td>15600</td>\n",
       "        </tr>\n",
       "        <tr>\n",
       "            <td>F9 B5 B1056.4</td>\n",
       "            <td>15600</td>\n",
       "        </tr>\n",
       "        <tr>\n",
       "            <td>F9 B5 B1058.3</td>\n",
       "            <td>15600</td>\n",
       "        </tr>\n",
       "        <tr>\n",
       "            <td>F9 B5 B1060.2</td>\n",
       "            <td>15600</td>\n",
       "        </tr>\n",
       "        <tr>\n",
       "            <td>F9 B5 B1060.3</td>\n",
       "            <td>15600</td>\n",
       "        </tr>\n",
       "    </tbody>\n",
       "</table>"
      ],
      "text/plain": [
       "[('F9 B5 B1048.4', 15600),\n",
       " ('F9 B5 B1048.5', 15600),\n",
       " ('F9 B5 B1049.4', 15600),\n",
       " ('F9 B5 B1049.5', 15600),\n",
       " ('F9 B5 B1049.7', 15600),\n",
       " ('F9 B5 B1051.3', 15600),\n",
       " ('F9 B5 B1051.4', 15600),\n",
       " ('F9 B5 B1051.6', 15600),\n",
       " ('F9 B5 B1056.4', 15600),\n",
       " ('F9 B5 B1058.3', 15600),\n",
       " ('F9 B5 B1060.2', 15600),\n",
       " ('F9 B5 B1060.3', 15600)]"
      ]
     },
     "execution_count": 82,
     "metadata": {},
     "output_type": "execute_result"
    }
   ],
   "source": [
    "#List the names of the booster_versions which have carried the maximum payload mass. Use a subquery\n",
    "%sql select distinct BOOSTER_VERSION, PAYLOAD_MASS_KG from SPACEX where PAYLOAD_MASS_KG = (select max(PAYLOAD_MASS_KG) from SPACEX)"
   ]
  },
  {
   "cell_type": "code",
   "execution_count": 86,
   "metadata": {},
   "outputs": [
    {
     "name": "stdout",
     "output_type": "stream",
     "text": [
      " * ibm_db_sa://hhs83610:***@9938aec0-8105-433e-8bf9-0fbb7e483086.c1ogj3sd0tgtu0lqde00.databases.appdomain.cloud:32459/BLUDB\n",
      "Done.\n"
     ]
    },
    {
     "data": {
      "text/html": [
       "<table>\n",
       "    <thead>\n",
       "        <tr>\n",
       "            <th>MONTH</th>\n",
       "            <th>YEAR</th>\n",
       "            <th>booster_version</th>\n",
       "            <th>launch_site</th>\n",
       "            <th>landing__outcome</th>\n",
       "        </tr>\n",
       "    </thead>\n",
       "    <tbody>\n",
       "        <tr>\n",
       "            <td>1</td>\n",
       "            <td>2015</td>\n",
       "            <td>F9 v1.1 B1012</td>\n",
       "            <td>CCAFS LC-40</td>\n",
       "            <td>Failure (drone ship)</td>\n",
       "        </tr>\n",
       "        <tr>\n",
       "            <td>4</td>\n",
       "            <td>2015</td>\n",
       "            <td>F9 v1.1 B1015</td>\n",
       "            <td>CCAFS LC-40</td>\n",
       "            <td>Failure (drone ship)</td>\n",
       "        </tr>\n",
       "    </tbody>\n",
       "</table>"
      ],
      "text/plain": [
       "[(1, 2015, 'F9 v1.1 B1012', 'CCAFS LC-40', 'Failure (drone ship)'),\n",
       " (4, 2015, 'F9 v1.1 B1015', 'CCAFS LC-40', 'Failure (drone ship)')]"
      ]
     },
     "execution_count": 86,
     "metadata": {},
     "output_type": "execute_result"
    }
   ],
   "source": [
    "# List the records which will display the month names, failure landing_outcomes in drone ship ,booster versions, launch_site for the months in year 2015.\n",
    "%sql select month(DATE) as month, year(DATE) as year, BOOSTER_VERSION, LAUNCH_SITE, LANDING__OUTCOME from SPACEX where LANDING__OUTCOME = 'Failure (drone ship)' and year(DATE) = '2015'"
   ]
  },
  {
   "cell_type": "code",
   "execution_count": 99,
   "metadata": {},
   "outputs": [
    {
     "name": "stdout",
     "output_type": "stream",
     "text": [
      " * ibm_db_sa://hhs83610:***@9938aec0-8105-433e-8bf9-0fbb7e483086.c1ogj3sd0tgtu0lqde00.databases.appdomain.cloud:32459/BLUDB\n",
      "Done.\n"
     ]
    },
    {
     "data": {
      "text/html": [
       "<table>\n",
       "    <thead>\n",
       "        <tr>\n",
       "            <th>1</th>\n",
       "            <th>landing__outcome</th>\n",
       "        </tr>\n",
       "    </thead>\n",
       "    <tbody>\n",
       "        <tr>\n",
       "            <td>5</td>\n",
       "            <td>Success (drone ship)</td>\n",
       "        </tr>\n",
       "        <tr>\n",
       "            <td>5</td>\n",
       "            <td>Success (ground pad)</td>\n",
       "        </tr>\n",
       "    </tbody>\n",
       "</table>"
      ],
      "text/plain": [
       "[(5, 'Success (drone ship)'), (5, 'Success (ground pad)')]"
      ]
     },
     "execution_count": 99,
     "metadata": {},
     "output_type": "execute_result"
    }
   ],
   "source": [
    "%%sql\n",
    "-- Rank the count of successful landing_outcomes between the date 04-06-2010 and 20-03-2017 in descending order.\n",
    "select count(LANDING__OUTCOME), LANDING__OUTCOME\n",
    "from (\n",
    "    select * from SPACEX where DATE between '2010-04-06' and '2017-03-20'\n",
    "    ) \n",
    "group by LANDING__OUTCOME\n",
    "having LANDING__OUTCOME like 'Success%'"
   ]
  },
  {
   "cell_type": "markdown",
   "metadata": {},
   "source": [
    "## Further exploration"
   ]
  },
  {
   "cell_type": "code",
   "execution_count": 101,
   "metadata": {},
   "outputs": [
    {
     "name": "stdout",
     "output_type": "stream",
     "text": [
      " * ibm_db_sa://hhs83610:***@9938aec0-8105-433e-8bf9-0fbb7e483086.c1ogj3sd0tgtu0lqde00.databases.appdomain.cloud:32459/BLUDB\n",
      "Done.\n"
     ]
    },
    {
     "data": {
      "text/html": [
       "<table>\n",
       "    <thead>\n",
       "        <tr>\n",
       "            <th>Landing_Outcome</th>\n",
       "            <th>Frequency</th>\n",
       "        </tr>\n",
       "    </thead>\n",
       "    <tbody>\n",
       "        <tr>\n",
       "            <td>Controlled (ocean)</td>\n",
       "            <td>5</td>\n",
       "        </tr>\n",
       "        <tr>\n",
       "            <td>Failure</td>\n",
       "            <td>3</td>\n",
       "        </tr>\n",
       "        <tr>\n",
       "            <td>Failure (drone ship)</td>\n",
       "            <td>5</td>\n",
       "        </tr>\n",
       "        <tr>\n",
       "            <td>Failure (parachute)</td>\n",
       "            <td>2</td>\n",
       "        </tr>\n",
       "        <tr>\n",
       "            <td>No attempt</td>\n",
       "            <td>22</td>\n",
       "        </tr>\n",
       "        <tr>\n",
       "            <td>Precluded (drone ship)</td>\n",
       "            <td>1</td>\n",
       "        </tr>\n",
       "        <tr>\n",
       "            <td>Success</td>\n",
       "            <td>38</td>\n",
       "        </tr>\n",
       "        <tr>\n",
       "            <td>Success (drone ship)</td>\n",
       "            <td>14</td>\n",
       "        </tr>\n",
       "        <tr>\n",
       "            <td>Success (ground pad)</td>\n",
       "            <td>9</td>\n",
       "        </tr>\n",
       "        <tr>\n",
       "            <td>Uncontrolled (ocean)</td>\n",
       "            <td>2</td>\n",
       "        </tr>\n",
       "    </tbody>\n",
       "</table>"
      ],
      "text/plain": [
       "[('Controlled (ocean)', 5),\n",
       " ('Failure', 3),\n",
       " ('Failure (drone ship)', 5),\n",
       " ('Failure (parachute)', 2),\n",
       " ('No attempt', 22),\n",
       " ('Precluded (drone ship)', 1),\n",
       " ('Success', 38),\n",
       " ('Success (drone ship)', 14),\n",
       " ('Success (ground pad)', 9),\n",
       " ('Uncontrolled (ocean)', 2)]"
      ]
     },
     "execution_count": 101,
     "metadata": {},
     "output_type": "execute_result"
    }
   ],
   "source": [
    "landing_outcome_distribution = %sql select LANDING__OUTCOME as \"Landing_Outcome\", count(*) as \"Frequency\" from SPACEX group by LANDING__OUTCOME\n",
    "landing_outcome_distribution"
   ]
  },
  {
   "cell_type": "code",
   "execution_count": 116,
   "metadata": {},
   "outputs": [
    {
     "data": {
      "image/png": "[encoded data removed]",
      "text/plain": [
       "<Figure size 800x400 with 1 Axes>"
      ]
     },
     "metadata": {},
     "output_type": "display_data"
    }
   ],
   "source": [
    "df = landing_outcome_distribution.DataFrame()\n",
    "plt.figure(figsize=(8,4))\n",
    "plt.title(\"Frequency Distribution of Landing Outcomes\")\n",
    "plot = sns.barplot(y='Landing_Outcome',x='Frequency', data=df)"
   ]
  },
  {
   "cell_type": "markdown",
   "metadata": {},
   "source": [
    "### Reference Links\n",
    "Hands-on Lab : String Patterns, Sorting and Grouping\n",
    "Hands-on Lab: Built-in functions\n",
    "Hands-on Lab : Sub-queries and Nested SELECT Statements\n",
    "Hands-on Tutorial: Accessing Databases with SQL magic\n",
    "Hands-on Lab: Analyzing a real World Data Set\n",
    "\n",
    "### Author(s)\n",
    "Lakshmi Holla\n",
    "Other Contributors\n",
    "Rav Ahuja\n",
    "\n",
    "### Change log\n",
    "2021-07-09\t0.2\tLakshmi Holla\tChanges made in magic sql\n",
    "2021-05-20\t0.1\tLakshmi Holla\tCreated Initial Version\n",
    "\n",
    "© IBM Corporation 2021. All rights reserved."
   ]
  }
 ],
 "metadata": {
  "kernelspec": {
   "name": "conda-env-python-py"
  },
  "language_info": {
   "codemirror_mode": {
    "name": "ipython",
    "version": 3
   },
   "file_extension": ".py",
   "mimetype": "text/x-python",
   "name": "python",
   "nbconvert_exporter": "python",
   "pygments_lexer": "ipython3",
   "version": "3.7.12"
  }
 },
 "nbformat": 4,
 "nbformat_minor": 4
}
